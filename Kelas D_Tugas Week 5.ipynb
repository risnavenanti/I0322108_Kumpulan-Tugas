{
 "cells": [
  {
   "attachments": {},
   "cell_type": "markdown",
   "metadata": {},
   "source": [
    "1. Buatlah program pemanggilan angka secara descending menggunakan pengulangan dari angka 50 hingga 0!"
   ]
  },
  {
   "cell_type": "code",
   "execution_count": 1,
   "metadata": {},
   "outputs": [
    {
     "name": "stdout",
     "output_type": "stream",
     "text": [
      "01234567891011121314151617181920212223242526272829303132333435363738394041424344454647484950\n",
      "012345678910111213141516171819202122232425262728293031323334353637383940414243444546474849\n",
      "0123456789101112131415161718192021222324252627282930313233343536373839404142434445464748\n",
      "01234567891011121314151617181920212223242526272829303132333435363738394041424344454647\n",
      "012345678910111213141516171819202122232425262728293031323334353637383940414243444546\n",
      "0123456789101112131415161718192021222324252627282930313233343536373839404142434445\n",
      "01234567891011121314151617181920212223242526272829303132333435363738394041424344\n",
      "012345678910111213141516171819202122232425262728293031323334353637383940414243\n",
      "0123456789101112131415161718192021222324252627282930313233343536373839404142\n",
      "01234567891011121314151617181920212223242526272829303132333435363738394041\n",
      "012345678910111213141516171819202122232425262728293031323334353637383940\n",
      "0123456789101112131415161718192021222324252627282930313233343536373839\n",
      "01234567891011121314151617181920212223242526272829303132333435363738\n",
      "012345678910111213141516171819202122232425262728293031323334353637\n",
      "0123456789101112131415161718192021222324252627282930313233343536\n",
      "01234567891011121314151617181920212223242526272829303132333435\n",
      "012345678910111213141516171819202122232425262728293031323334\n",
      "0123456789101112131415161718192021222324252627282930313233\n",
      "01234567891011121314151617181920212223242526272829303132\n",
      "012345678910111213141516171819202122232425262728293031\n",
      "0123456789101112131415161718192021222324252627282930\n",
      "01234567891011121314151617181920212223242526272829\n",
      "012345678910111213141516171819202122232425262728\n",
      "0123456789101112131415161718192021222324252627\n",
      "01234567891011121314151617181920212223242526\n",
      "012345678910111213141516171819202122232425\n",
      "0123456789101112131415161718192021222324\n",
      "01234567891011121314151617181920212223\n",
      "012345678910111213141516171819202122\n",
      "0123456789101112131415161718192021\n",
      "01234567891011121314151617181920\n",
      "012345678910111213141516171819\n",
      "0123456789101112131415161718\n",
      "01234567891011121314151617\n",
      "012345678910111213141516\n",
      "0123456789101112131415\n",
      "01234567891011121314\n",
      "012345678910111213\n",
      "0123456789101112\n",
      "01234567891011\n",
      "012345678910\n",
      "0123456789\n",
      "012345678\n",
      "01234567\n",
      "0123456\n",
      "012345\n",
      "01234\n",
      "0123\n",
      "012\n",
      "01\n",
      "0\n"
     ]
    }
   ],
   "source": [
    "# kerjakan nomor 1 di sini\n",
    "angka = 50\n",
    "for x in range (0, angka+1):\n",
    "    for y in range (0, angka+1):\n",
    "        print(y, end='')\n",
    "\n",
    "    print()\n",
    "    angka-=1"
   ]
  },
  {
   "attachments": {},
   "cell_type": "markdown",
   "metadata": {},
   "source": [
    "2. Buatlah sebuah list yang berisi kota-kota yang ada di indonesia (minimal 10, salah satunya kota asal kalian), kemudian buat pengulangan yang menampilkan isi-isi dalam list tersebut, jika salah satu kota menunjukkan kota asal kalian maka tambahkan output \"kota X adalah kampung halaman saya\" (program tetap lanjut)"
   ]
  },
  {
   "cell_type": "code",
   "execution_count": 3,
   "metadata": {},
   "outputs": [
    {
     "name": "stdout",
     "output_type": "stream",
     "text": [
      "Medan\n",
      "Malang\n",
      "Jambi\n",
      "Yogyakarta\n",
      "Bogor\n",
      "Sukoharjo\n",
      "Kudus\n",
      "Demak\n",
      "Kabupaten Demak adalah kampung halaman saya\n",
      "Tegal\n",
      "Bandung\n",
      "Surabaya\n",
      "Surakarta\n",
      "Denpasar\n"
     ]
    }
   ],
   "source": [
    "# Kerjakan nomor 2 di sini\n",
    "kotakab = ['Medan','Malang','Jambi','Yogyakarta','Bogor','Sukoharjo','Kudus','Demak','Tegal', 'Bandung', 'Surabaya','Surakarta','Denpasar']\n",
    "\n",
    "for x in kotakab:\n",
    "    print(x)\n",
    "\n",
    "    if x == kotakab[7]:\n",
    "        print(\"Kabupaten Demak adalah kampung halaman saya\")"
   ]
  },
  {
   "attachments": {},
   "cell_type": "markdown",
   "metadata": {},
   "source": [
    "3. Disajikan list sebagai berikut"
   ]
  },
  {
   "cell_type": "code",
   "execution_count": null,
   "metadata": {},
   "outputs": [],
   "source": [
    "hari = ['senin', 'selasa','rabu','kamis','jumat','sabtu', 'minggu']\n",
    "menu_sahur = ['soto','pecel lele', 'ayam goreng', 'sayur sop', 'rendang','telur balado']"
   ]
  },
  {
   "attachments": {},
   "cell_type": "markdown",
   "metadata": {},
   "source": [
    "Abdul adalah seorang mahasiswa semester 2. Selama satu minggu ia membuat daftar menu sahur yang dia makan selama seminggu yang lalu. dengan catatan hari kamis Abdul ketiduran sehingga dia tidak sahur. Berdasarkan kasus tersebut buatlah program pengulangannya!"
   ]
  },
  {
   "cell_type": "code",
   "execution_count": 27,
   "metadata": {},
   "outputs": [
    {
     "ename": "TypeError",
     "evalue": "list indices must be integers or slices, not str",
     "output_type": "error",
     "traceback": [
      "\u001b[1;31m---------------------------------------------------------------------------\u001b[0m",
      "\u001b[1;31mTypeError\u001b[0m                                 Traceback (most recent call last)",
      "Cell \u001b[1;32mIn[27], line 9\u001b[0m\n\u001b[0;32m      7\u001b[0m     \u001b[39mprint\u001b[39m (\u001b[39mf\u001b[39m\u001b[39m'\u001b[39m\u001b[39mHari Kamis Abdul tidak sahur\u001b[39m\u001b[39m'\u001b[39m)\n\u001b[0;32m      8\u001b[0m \u001b[39melse\u001b[39;00m:\n\u001b[1;32m----> 9\u001b[0m     \u001b[39mprint\u001b[39m (hari [x],\u001b[39m'\u001b[39m\u001b[39m:\u001b[39m\u001b[39m'\u001b[39m,menu_sahur[x])\n",
      "\u001b[1;31mTypeError\u001b[0m: list indices must be integers or slices, not str"
     ]
    }
   ],
   "source": [
    "# kerjakan nomor 3 di sini\n",
    "hari = ['senin', 'selasa','rabu','kamis','jumat','sabtu', 'minggu']\n",
    "menu_sahur = ['soto','pecel lele', 'ayam goreng', 'sayur sop', 'rendang','telur balado']\n",
    "\n",
    "for x in (hari):\n",
    "    if x ==3:\n",
    "        print (f'Hari Kamis Abdul tidak sahur')\n",
    "    else:\n",
    "        print (hari [x],':',menu_sahur[x])\n"
   ]
  }
 ],
 "metadata": {
  "kernelspec": {
   "display_name": "Python 3",
   "language": "python",
   "name": "python3"
  },
  "language_info": {
   "codemirror_mode": {
    "name": "ipython",
    "version": 3
   },
   "file_extension": ".py",
   "mimetype": "text/x-python",
   "name": "python",
   "nbconvert_exporter": "python",
   "pygments_lexer": "ipython3",
   "version": "3.11.2"
  },
  "orig_nbformat": 4
 },
 "nbformat": 4,
 "nbformat_minor": 2
}
