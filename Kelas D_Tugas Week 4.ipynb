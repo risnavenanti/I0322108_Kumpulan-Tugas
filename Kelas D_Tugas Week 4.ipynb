{
 "cells": [
  {
   "cell_type": "code",
   "execution_count": 2,
   "metadata": {},
   "outputs": [
    {
     "name": "stdout",
     "output_type": "stream",
     "text": [
      "Risna Venanti\n",
      "I0322108\n",
      "D\n"
     ]
    }
   ],
   "source": [
    "print(input(\"Nama: \"))\n",
    "print(input(\"NIM: \"))\n",
    "print(input(\"Kelas: \"))"
   ]
  },
  {
   "attachments": {},
   "cell_type": "markdown",
   "metadata": {},
   "source": [
    "## 1."
   ]
  },
  {
   "attachments": {},
   "cell_type": "markdown",
   "metadata": {},
   "source": [
    "Buatlah program yang menampilkan salam “Selamat Pagi” dari berbagai negara {Inggris, Perancis, Italia, Spanyol, Jepang, Korea} dengan dua input dari user yaitu bahasa dan diikuti nama user.<br>\n",
    "<br>Ex : \n",
    "<br>\"Ohayou, Onii Chan\"\n",
    "> *note: Kerjakan soal ini dengan percabangan*"
   ]
  },
  {
   "cell_type": "code",
   "execution_count": 6,
   "metadata": {},
   "outputs": [
    {
     "name": "stdout",
     "output_type": "stream",
     "text": [
      "Joheun achimeiyo,  risna\n"
     ]
    }
   ],
   "source": [
    "# Kerjakan soal nomor 1 disini\n",
    "bahasa = str(input(\"Masukkan Negara(huruf kecil) \"))\n",
    "namauser = str(input(\"Masukkan Nama Anda \"))\n",
    "\n",
    "if bahasa == \"inggris\":\n",
    "    print(\"Good morning, \",namauser)\n",
    "elif bahasa == \"perancis\":\n",
    "    print(\"Bonjour, \",namauser)\n",
    "elif bahasa == \"italia\":\n",
    "    print(\"Buongiorno, \",namauser)\n",
    "elif bahasa == \"spanyol\":\n",
    "    print(\"Buen dia, \",namauser)\n",
    "elif bahasa == \"jepang\":\n",
    "    print(\"Ohayou, \",namauser)\n",
    "elif bahasa == \"korea\":\n",
    "    print(\"Joheun achimeiyo, \",namauser)\n",
    "\n"
   ]
  },
  {
   "attachments": {},
   "cell_type": "markdown",
   "metadata": {},
   "source": [
    "## 2."
   ]
  },
  {
   "attachments": {},
   "cell_type": "markdown",
   "metadata": {},
   "source": [
    "Buatlah program perhitungan umur dengan menggunakan input user yaitu tahun lahir dari user.<br>\n",
    "<br>Output yang dihasilkan adalah sebagai berikut:\n",
    "<br>\"Apakah anda berasal dari masa depan?\"\n",
    "<br>\"Anda barusaja lahir\"\n",
    "<br>\"Umur Anda adalah xx tahun\"\n",
    "> *note: Kerjakan soal ini dengan percabangan*"
   ]
  },
  {
   "cell_type": "code",
   "execution_count": 10,
   "metadata": {},
   "outputs": [
    {
     "name": "stdout",
     "output_type": "stream",
     "text": [
      "Umur Anda saat ini adalah 19 tahun\n"
     ]
    }
   ],
   "source": [
    "# Kerjakan soal nomor 2 disini\n",
    "tahunlahir = int(input(\"Masukkan tahun lahir Anda\"))\n",
    "tahunini = 2023\n",
    "\n",
    "umur = tahunini - tahunlahir\n",
    "\n",
    "if tahunlahir > tahunini:\n",
    "    print(\"Apakah Anda berasal dari masa depan?\")\n",
    "elif tahunlahir == tahunini:\n",
    "    print(\"Anda baru saja lahir\")\n",
    "else:\n",
    "    print(\"Umur Anda saat ini adalah\", umur, \"tahun\")"
   ]
  }
 ],
 "metadata": {
  "kernelspec": {
   "display_name": "Python 3",
   "language": "python",
   "name": "python3"
  },
  "language_info": {
   "codemirror_mode": {
    "name": "ipython",
    "version": 3
   },
   "file_extension": ".py",
   "mimetype": "text/x-python",
   "name": "python",
   "nbconvert_exporter": "python",
   "pygments_lexer": "ipython3",
   "version": "3.11.2"
  },
  "orig_nbformat": 4
 },
 "nbformat": 4,
 "nbformat_minor": 2
}
