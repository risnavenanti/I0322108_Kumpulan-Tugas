{
 "cells": [
  {
   "cell_type": "code",
   "execution_count": 1,
   "metadata": {},
   "outputs": [
    {
     "data": {
      "text/plain": [
       "[[2, 1], [4, 5]]"
      ]
     },
     "execution_count": 1,
     "metadata": {},
     "output_type": "execute_result"
    }
   ],
   "source": [
    "#Buatlah sebuah fungsi untuk membuat matrix berdasarkan input dari user\n",
    "\n",
    "def create_matrix(baris,kolom):\n",
    "    matrix = []\n",
    "    \n",
    "    #Tulis kode kamu disini\n",
    "    for x in range (baris):\n",
    "        area = []\n",
    "        for y in range (kolom):\n",
    "            inp = (int(input(f\"[{x}][{y}]\")))\n",
    "            area.append(inp)\n",
    "        matrix.append(area)\n",
    "    \n",
    "    return matrix\n",
    "\n",
    "\n",
    "baris = int(input('Masukkan Jumlah Baris:\\t'))\n",
    "kolom = int(input('Masukkan Jumlah Kolom:\\t'))\n",
    "\n",
    "create_matrix(baris,kolom)"
   ]
  },
  {
   "cell_type": "code",
   "execution_count": 5,
   "metadata": {},
   "outputs": [
    {
     "data": {
      "text/plain": [
       "[[1, 4], [6, 2]]"
      ]
     },
     "execution_count": 5,
     "metadata": {},
     "output_type": "execute_result"
    }
   ],
   "source": [
    "#Buatlah sebuah fungsi untuk mencari invers matrix berdasarkan input matrix dari user\n",
    "\n",
    "def invers():\n",
    "    det = []\n",
    "\n",
    "    #Tulis kode kamu disini\n",
    "    um = int(input(\"berapakah ukuran matriks yang Anda inginkan?\"))\n",
    "    for x in range (um):\n",
    "        area = []\n",
    "        for y in range (um):\n",
    "            inp = (int(input(f\"[{x}][{y}]\")))\n",
    "            area.append(inp)\n",
    "        det.append(area)\n",
    "\n",
    "    def determinan(det):\n",
    "        z = len(det)\n",
    "        if z == 1:\n",
    "            return det [0][0]\n",
    "        elif z == 2:\n",
    "            return det [0][0]*det[1][1]-det[0][1]*det[1][0]\n",
    "        else:\n",
    "            deter = 0\n",
    "            for i in range (z):\n",
    "                sub = [area[:i]+area[i+1:] for area in det[1:]]\n",
    "                det += ((-1)**1)*det[0][i]*determinan(sub)\n",
    "            return deter\n",
    "        \n",
    "    deter = determinan(det)\n",
    "\n",
    "    baris = int(input(\"Masukkan jumlah baris yang Anda inginkan \"))\n",
    "    kolom = int(input(\"Masukkan jumlah baris yang Anda inginkan \"))\n",
    "\n",
    "    create_matrix(baris, kolom)\n",
    "\n",
    "    return det\n",
    "\n",
    "invers()"
   ]
  },
  {
   "cell_type": "code",
   "execution_count": 6,
   "metadata": {},
   "outputs": [
    {
     "data": {
      "text/plain": [
       "[[0.5, 1.0, 1.5], [2.0, 2.5, 3.0], [3.5, 4.0, 4.5]]"
      ]
     },
     "execution_count": 6,
     "metadata": {},
     "output_type": "execute_result"
    }
   ],
   "source": [
    "#Buatlah Fungsi untuk melakukan pembagian matrix antar matrix berdasarkan input user menggunakan nested loop\n",
    "\n",
    "def bagi_matrix(matrix1, skalar):\n",
    "    hasil = []\n",
    "\n",
    "    #Tulis kode kamu disini\n",
    "    for x in range(len(matrix1)):\n",
    "        row = []\n",
    "        for y in range(len(matrix1[0])):\n",
    "            element = matrix1[x][y]/skalar\n",
    "            row.append(element)\n",
    "        hasil.append(row)\n",
    "    return hasil\n",
    "\n",
    "matrix1 = [[1,2,3],[4,5,6],[7,8,9]]\n",
    "skalar = int(input('Matrix dibagi berapa?\\t'))\n",
    "\n",
    "bagi_matrix(matrix1, skalar)"
   ]
  }
 ],
 "metadata": {
  "kernelspec": {
   "display_name": "Python 3",
   "language": "python",
   "name": "python3"
  },
  "language_info": {
   "codemirror_mode": {
    "name": "ipython",
    "version": 3
   },
   "file_extension": ".py",
   "mimetype": "text/x-python",
   "name": "python",
   "nbconvert_exporter": "python",
   "pygments_lexer": "ipython3",
   "version": "3.11.2"
  },
  "orig_nbformat": 4
 },
 "nbformat": 4,
 "nbformat_minor": 2
}
