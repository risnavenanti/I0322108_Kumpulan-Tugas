{
 "cells": [
  {
   "cell_type": "code",
   "execution_count": 2,
   "metadata": {},
   "outputs": [
    {
     "name": "stdout",
     "output_type": "stream",
     "text": [
      "Risna Venanti\n",
      "I0322108\n",
      "D\n"
     ]
    }
   ],
   "source": [
    "print(input(\"Nama: \"))\n",
    "print(input(\"NIM: \"))\n",
    "print(input(\"Kelas: \"))"
   ]
  },
  {
   "attachments": {},
   "cell_type": "markdown",
   "metadata": {},
   "source": [
    "## 1."
   ]
  },
  {
   "attachments": {},
   "cell_type": "markdown",
   "metadata": {},
   "source": [
    "diketahui dimensi sebuah aquarium tanpa penutup atas sebagai berikut:\n",
    "\n",
    "```python\n",
    "p = 11\n",
    "l = 1.99\n",
    "t = 25.87\n",
    "```\n",
    "buatkan program sederhana untuk menghitung diagonal tiap sisi dan luas permukaan aquarium tersebut tanpa menggunakan module math."
   ]
  },
  {
   "cell_type": "code",
   "execution_count": 6,
   "metadata": {},
   "outputs": [
    {
     "name": "stdout",
     "output_type": "stream",
     "text": [
      " i. Diagonal Alas\n",
      "     = (p² + l²)^1/2\n",
      "     = (11² + 1.99²)^1/2\n",
      "     = 11.17855536283647\n",
      "\n",
      " ii. Diagonal Sisi Depan dan Belakang\n",
      "     = (p² + t²)^1/2\n",
      "     = (11² + 25.87²)^1/2\n",
      "     = 28.11150831954771\n",
      "\n",
      " iii. Diagonal Sisi Kanan dan Kiri\n",
      "     = (l² + t²)^1/2\n",
      "     = (1.99² + 25.87²)^1/2\n",
      "     = 25.946425572706545\n",
      "\n",
      "Luas Permukaan Aquarium\n",
      "Luas Permukaan = 569.14 + 102.96260000000001 + (p*l)\n",
      "               = 569.14 + 102.96260000000001 + (11*1.99)\n",
      "               = 569.14 + 102.96260000000001 + 21.89\n",
      "               = 693.9926\n"
     ]
    }
   ],
   "source": [
    "#program menghitung diagonal tiap sisi dan luas permukaan aquarium tersebut tanpa menggunakan module math.\\\n",
    "\n",
    "#input data\n",
    "diketahui = \"p, l, t\"\n",
    "p = 11\n",
    "l = 1.99\n",
    "t = 25.87\n",
    "\n",
    "#output data\n",
    "\n",
    "diagonalA = (p**2 + l**2)**(1/2)\n",
    "diagonalDepanBelakang = (p**2 + t**2)**(1/2)\n",
    "diagonalKananKiri = (l**2 + t**2)**(1/2)\n",
    "\n",
    "print(\" i. Diagonal Alas\")\n",
    "print(\"     = (p\\u00b2 + l\\u00b2)^1/2\")\n",
    "print(\"     = (11\\u00b2 + 1.99\\u00b2)^1/2\")\n",
    "print(\"     =\", diagonalA)\n",
    "print()\n",
    "\n",
    "print(\" ii. Diagonal Sisi Depan dan Belakang\")\n",
    "print(\"     = (p\\u00b2 + t\\u00b2)^1/2\")\n",
    "print(\"     = (11\\u00b2 + 25.87\\u00b2)^1/2\")\n",
    "print(\"     =\", diagonalDepanBelakang)\n",
    "print()\n",
    "\n",
    "print(\" iii. Diagonal Sisi Kanan dan Kiri\")\n",
    "print(\"     = (l\\u00b2 + t\\u00b2)^1/2\")\n",
    "print(\"     = (1.99\\u00b2 + 25.87\\u00b2)^1/2\")\n",
    "print(\"     =\", diagonalKananKiri)\n",
    "print()\n",
    "\n",
    "print(\"Luas Permukaan Aquarium\")\n",
    "alas = p * l\n",
    "depanbelakang = 2 * p * t\n",
    "kanankiri = 2 * l * t\n",
    "luaspermukaan = alas + depanbelakang + kanankiri\n",
    "print(\"Luas Permukaan =\", (2 * p * t), \"+\", (2 * l * t), \"+\", \"(p*l)\")\n",
    "print(\"               =\", (2 * 11 * 25.87), \"+\", (2 * 1.99 * 25.87), \"+\", \"(11*1.99)\")\n",
    "print(\"               =\", depanbelakang, \"+\", kanankiri, \"+\", alas)\n",
    "print(\"               =\", luaspermukaan)"
   ]
  },
  {
   "attachments": {},
   "cell_type": "markdown",
   "metadata": {},
   "source": [
    "## 2."
   ]
  },
  {
   "attachments": {},
   "cell_type": "markdown",
   "metadata": {},
   "source": [
    "diberikan data nilai mahasiswa sebagai berikut:"
   ]
  },
  {
   "cell_type": "code",
   "execution_count": 5,
   "metadata": {},
   "outputs": [
    {
     "name": "stdout",
     "output_type": "stream",
     "text": [
      "Nilai rata-rata seluruh mahasiswa adalah  80\n",
      "Nilai tertinggi mahasiswa adalah  90\n",
      "Nilai tertinggi mahasiswa adalah  70\n"
     ]
    }
   ],
   "source": [
    "#PROGRAM 1 MENUNJUKKAN HASIL ANGKA\n",
    "nilai = {\n",
    "    'Frank': 80,\n",
    "    'Abagnale': 75,\n",
    "    'Cobb': 90,\n",
    "    'Andy Dufresne': 85,\n",
    "    'Ariadne': 70\n",
    "}\n",
    "\n",
    "#output data\n",
    "import statistics\n",
    "\n",
    "nilaimahasiswa = list(nilai.values())\n",
    "ratarata = statistics.mean(nilaimahasiswa)\n",
    "print(\"Nilai rata-rata seluruh mahasiswa adalah \", ratarata)\n",
    "\n",
    "nilaimaksimal = max(nilaimahasiswa)\n",
    "print(\"Nilai tertinggi mahasiswa adalah \", nilaimaksimal)\n",
    "\n",
    "nilaiminimal = min(nilaimahasiswa)\n",
    "print(\"Nilai tertinggi mahasiswa adalah \", nilaiminimal)\n"
   ]
  },
  {
   "cell_type": "code",
   "execution_count": 24,
   "metadata": {},
   "outputs": [
    {
     "name": "stdout",
     "output_type": "stream",
     "text": [
      "Nilai rata-rata seluruh mahasiswa adalah  80.0\n",
      "Nilai tertinggi diraih oleh  Cobb\n",
      "Nilai terendah diraih oleh  Ariadne\n"
     ]
    }
   ],
   "source": [
    "#PROGRAM 2 MENUNJUKKAN HASIL NAMA\n",
    "#input data\n",
    "nilai = {\n",
    "    'Frank': 80,\n",
    "    'Abagnale': 75,\n",
    "    'Cobb': 90,\n",
    "    'Andy Dufresne': 85,\n",
    "    'Ariadne': 70\n",
    "}\n",
    "\n",
    "#mean\n",
    "ratarata = (nilai['Frank'] + nilai['Abagnale'] + nilai['Cobb'] + nilai['Andy Dufresne'] + nilai['Ariadne'])/5\n",
    "daftarnilai = [i for i in nilai.values()]\n",
    "print(\"Nilai rata-rata seluruh mahasiswa adalah \", ratarata)\n",
    "\n",
    "#max dan min\n",
    "maks = max(daftarnilai)\n",
    "minim = min(daftarnilai)\n",
    "nilaimaks = max(nilai, key=nilai.get)\n",
    "nilaiminim = min(nilai, key=nilai.get)\n",
    "print(\"Nilai tertinggi diraih oleh \", nilaimaks)\n",
    "print(\"Nilai terendah diraih oleh \", nilaiminim)\n",
    "\n"
   ]
  },
  {
   "attachments": {},
   "cell_type": "markdown",
   "metadata": {},
   "source": [
    "buatlah program sederhana untuk menghitung nilai rata-rata semua mahasiswa dan mencari siapa yang mendapatkan nilai tertinggi dan nilai terendah. \n",
    "> *note: tidak perlu menggunakan loops untuk membuat program nya*"
   ]
  },
  {
   "attachments": {},
   "cell_type": "markdown",
   "metadata": {},
   "source": [
    "## 3. "
   ]
  },
  {
   "attachments": {},
   "cell_type": "markdown",
   "metadata": {},
   "source": [
    "diberikan list aslab sebagai berikut:\n",
    "```python\n",
    "list_aslab = [\n",
    "    {\"nama\": \"Berlian Safri Prakoso\", \"nim\": \"I0320017\", \"kontak\": \"0858XXXXXXXX\"},\n",
    "    {\"nama\": \"Halidya Siti Hanifah\", \"nim\": \"I0320044\", \"kontak\": \"0878XXXXXXXX\"},\n",
    "    {\"nama\": \"Nurki Putra Mahardika\", \"nim\": \"I0320076\", \"kontak\": \"0877XXXXXXXX\"},\n",
    "    {\"nama\": \"Aji Manarul Aziz\", \"nim\": \"I0320119\", \"kontak\": \"0812XXXXXXXX\"},\n",
    "    {\"nama\": \"Alica Ayu Fitriani\", \"nim\": \"I0320121\", \"kontak\": \"0896XXXXXXXX\"},\n",
    "    {\"nama\": \"Dendy Halim Kusuma\", \"nim\": \"I0320125\", \"kontak\": \"0822XXXXXXXX\"}\n",
    "]\n",
    "```\n",
    "* **A** Tuliskan kode untuk mengakses informasi tentang \"nama\" dari semua aslab mulai dari index 1 sampai 5\n",
    "* **B** Tambahkan informasi berikut pada data aslab:\n",
    "```python\n",
    "\n",
    "surel = [\"berlian@student.uns.ac.id\",\n",
    "          \"halidya@student.uns.ac.id\",\n",
    "          \"nurki@student.uns.ac.id\",\n",
    "          \"manarul@student.uns.ac.id\",\n",
    "          \"alica@student.uns.ac.id\",\n",
    "          \"dendy@student.uns.ac.id\"]\n",
    "```\n",
    "> *note: kalian hanya boleh menggunakan key-value pair yang disebutkan di dalam teks, tanpa menggunakan informasi tambahan yang diambil pada list yang ada*"
   ]
  },
  {
   "cell_type": "code",
   "execution_count": 11,
   "metadata": {},
   "outputs": [
    {
     "name": "stdout",
     "output_type": "stream",
     "text": [
      "Asisten Lab POSI ke 2 sebagai berikut, {'nama': 'Halidya Siti Hanifah', 'nim': 'I0320044', 'kontak': '0878XXXXXXXX'}\n",
      "Asisten Lab POSI ke 3 sebagai berikut, {'nama': 'Nurki Putra Mahardika', 'nim': 'I0320076', 'kontak': '0877XXXXXXXX'}\n",
      "Asisten Lab POSI ke 4 sebagai berikut, {'nama': 'Aji Manarul Aziz', 'nim': 'I0320119', 'kontak': '0812XXXXXXXX'}\n",
      "Asisten Lab POSI ke 5 sebagai berikut, {'nama': 'Alica Ayu Fitriani', 'nim': 'I0320121', 'kontak': '0896XXXXXXXX'}\n",
      "Asisten Lab POSI ke 6 sebagai berikut, {'nama': 'Dendy Halim Kusuma', 'nim': 'I0320125', 'kontak': '0822XXXXXXXX'}\n"
     ]
    }
   ],
   "source": [
    "#3.A\n",
    "#input data\n",
    "list_aslab = [\n",
    "    {\"nama\": \"Berlian Safri Prakoso\", \"nim\": \"I0320017\", \"kontak\": \"0858XXXXXXXX\"},\n",
    "    {\"nama\": \"Halidya Siti Hanifah\", \"nim\": \"I0320044\", \"kontak\": \"0878XXXXXXXX\"},\n",
    "    {\"nama\": \"Nurki Putra Mahardika\", \"nim\": \"I0320076\", \"kontak\": \"0877XXXXXXXX\"},\n",
    "    {\"nama\": \"Aji Manarul Aziz\", \"nim\": \"I0320119\", \"kontak\": \"0812XXXXXXXX\"},\n",
    "    {\"nama\": \"Alica Ayu Fitriani\", \"nim\": \"I0320121\", \"kontak\": \"0896XXXXXXXX\"},\n",
    "    {\"nama\": \"Dendy Halim Kusuma\", \"nim\": \"I0320125\", \"kontak\": \"0822XXXXXXXX\"}\n",
    "]\n",
    "\n",
    "#output data\n",
    "for i in range (1,len(list_aslab)):\n",
    "    print(\"Asisten Lab POSI ke\", i+1, \"sebagai berikut,\", list_aslab[i])"
   ]
  },
  {
   "cell_type": "code",
   "execution_count": 10,
   "metadata": {},
   "outputs": [
    {
     "name": "stdout",
     "output_type": "stream",
     "text": [
      "Asisten Lab POSI ke 1 sebagai berikut, {'nama': 'Berlian Safri Prakoso', 'nim': 'I0320017', 'kontak': '0858XXXXXXXX', 'surel': 'berlian@student.uns.ac.id'}\n",
      "Asisten Lab POSI ke 2 sebagai berikut, {'nama': 'Halidya Siti Hanifah', 'nim': 'I0320044', 'kontak': '0878XXXXXXXX', 'surel': 'halidya@student.uns.ac.id'}\n",
      "Asisten Lab POSI ke 3 sebagai berikut, {'nama': 'Nurki Putra Mahardika', 'nim': 'I0320076', 'kontak': '0877XXXXXXXX', 'surel': 'nurki@student.uns.ac.id'}\n",
      "Asisten Lab POSI ke 4 sebagai berikut, {'nama': 'Aji Manarul Aziz', 'nim': 'I0320119', 'kontak': '0812XXXXXXXX', 'surel': 'manarul@student.uns.ac.id'}\n",
      "Asisten Lab POSI ke 5 sebagai berikut, {'nama': 'Alica Ayu Fitriani', 'nim': 'I0320121', 'kontak': '0896XXXXXXXX', 'surel': 'alica@student.uns.ac.id'}\n",
      "Asisten Lab POSI ke 6 sebagai berikut, {'nama': 'Dendy Halim Kusuma', 'nim': 'I0320125', 'kontak': '0822XXXXXXXX', 'surel': 'dendy@student.uns.ac.id'}\n"
     ]
    }
   ],
   "source": [
    "#3.B\n",
    "#input data\n",
    "list_aslab = [\n",
    "    {\"nama\": \"Berlian Safri Prakoso\", \"nim\": \"I0320017\", \"kontak\": \"0858XXXXXXXX\"},\n",
    "    {\"nama\": \"Halidya Siti Hanifah\", \"nim\": \"I0320044\", \"kontak\": \"0878XXXXXXXX\"},\n",
    "    {\"nama\": \"Nurki Putra Mahardika\", \"nim\": \"I0320076\", \"kontak\": \"0877XXXXXXXX\"},\n",
    "    {\"nama\": \"Aji Manarul Aziz\", \"nim\": \"I0320119\", \"kontak\": \"0812XXXXXXXX\"},\n",
    "    {\"nama\": \"Alica Ayu Fitriani\", \"nim\": \"I0320121\", \"kontak\": \"0896XXXXXXXX\"},\n",
    "    {\"nama\": \"Dendy Halim Kusuma\", \"nim\": \"I0320125\", \"kontak\": \"0822XXXXXXXX\"}\n",
    "]\n",
    "surel = [\"berlian@student.uns.ac.id\",\n",
    "          \"halidya@student.uns.ac.id\",\n",
    "          \"nurki@student.uns.ac.id\",\n",
    "          \"manarul@student.uns.ac.id\",\n",
    "          \"alica@student.uns.ac.id\",\n",
    "          \"dendy@student.uns.ac.id\"]\n",
    "\n",
    "#output data\n",
    "for i in range (0,len(list_aslab)):\n",
    "    list_aslab[i].update({\"surel\": surel[i]})\n",
    "    print(\"Asisten Lab POSI ke\", i+1, \"sebagai berikut,\", list_aslab[i])"
   ]
  }
 ],
 "metadata": {
  "kernelspec": {
   "display_name": "Python 3",
   "language": "python",
   "name": "python3"
  },
  "language_info": {
   "codemirror_mode": {
    "name": "ipython",
    "version": 3
   },
   "file_extension": ".py",
   "mimetype": "text/x-python",
   "name": "python",
   "nbconvert_exporter": "python",
   "pygments_lexer": "ipython3",
   "version": "3.11.2"
  },
  "orig_nbformat": 4,
  "vscode": {
   "interpreter": {
    "hash": "5addf786bcd861d1ce5006f23111f8cbb206731e5b61b0a5632ba9e0252558a8"
   }
  }
 },
 "nbformat": 4,
 "nbformat_minor": 2
}
